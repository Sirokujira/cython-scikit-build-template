{
 "cells": [
  {
   "cell_type": "code",
   "execution_count": 2,
   "metadata": {},
   "outputs": [
    {
     "data": {
      "image/png": "[encoded data removed]",
      "text/plain": [
       "<Figure size 432x288 with 1 Axes>"
      ]
     },
     "metadata": {
      "needs_background": "light"
     },
     "output_type": "display_data"
    }
   ],
   "source": [
    "import matplotlib.pyplot as plt\n",
    "import matplotlib.patches as patches\n",
    "\n",
    "from temp.rect import Rectangle\n",
    "\n",
    "fig = plt.figure()\n",
    "ax = plt.axes()\n",
    "\n",
    "rectangle = Rectangle(1, 2, 3, 4)\n",
    "r = patches.Rectangle(xy=(rectangle.x, rectangle.y), width=rectangle.getArea()/rectangle.getHeight(), height=rectangle.getHeight(), ec='#00FF00', fill=False)\n",
    "ax.add_patch(r)\n",
    "rectangle.move(2, 4)\n",
    "r2 = patches.Rectangle(xy=(rectangle.x, rectangle.y), width=rectangle.getArea()/rectangle.getHeight(), height=rectangle.getHeight(), ec='#FF00FF', fill=False)\n",
    "ax.add_patch(r2)\n",
    "\n",
    "plt.axis('scaled')\n",
    "ax.set_aspect('equal')"
   ]
  },
  {
   "cell_type": "code",
   "execution_count": null,
   "metadata": {},
   "outputs": [],
   "source": []
  }
 ],
 "metadata": {
  "kernelspec": {
   "display_name": "Python 3",
   "language": "python",
   "name": "python3"
  },
  "language_info": {
   "codemirror_mode": {
    "name": "ipython",
    "version": 3
   },
   "file_extension": ".py",
   "mimetype": "text/x-python",
   "name": "python",
   "nbconvert_exporter": "python",
   "pygments_lexer": "ipython3",
   "version": "3.8.5"
  }
 },
 "nbformat": 4,
 "nbformat_minor": 4
}
